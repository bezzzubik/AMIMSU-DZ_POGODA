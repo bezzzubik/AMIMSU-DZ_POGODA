{
 "cells": [
  {
   "cell_type": "code",
   "execution_count": 33,
   "id": "e4465cbe-85e8-4434-966b-13f1e711ab0c",
   "metadata": {},
   "outputs": [],
   "source": [
    "def read_data(filename):\n",
    "    \"\"\"\n",
    "    Считывает данные из файла, формируя двумерный список.\n",
    "\n",
    "    Args:\n",
    "        filename: Имя файла с данными.\n",
    "\n",
    "    Returns:\n",
    "        Двумерный список, где каждый подсписок содержит 10 значений.\n",
    "        Возвращает None, если файл не может быть открыт или формат файла неверен.\n",
    "    \"\"\"\n",
    "    data = []\n",
    "    current_list = []\n",
    "    try:\n",
    "        with open(filename, 'r') as f:\n",
    "            for line in f:\n",
    "                line = line.strip()  # Удаляем пробелы в начале и конце строки\n",
    "                if not line:  # Пропускаем пустые строки\n",
    "                    continue\n",
    "\n",
    "                try:\n",
    "                    index, value = line.split('\\t')  # Разделяем строку на индекс и значение (разделитель - табуляция)\n",
    "                    value = float(value)  # Преобразуем значение в число с плавающей точкой\n",
    "                    current_list.append(value)\n",
    "                except ValueError:\n",
    "                    print(f\"Ошибка: Неверный формат строки: {line}\")\n",
    "                    return None  # Прерываем чтение файла\n",
    "\n",
    "                if len(current_list) == 10:\n",
    "                    data.append(current_list)\n",
    "                    current_list = []  # Начинаем новый подсписок\n",
    "\n",
    "        # Проверяем, что количество элементов в последнем списке равно 10 (если есть неполный список)\n",
    "        if current_list:\n",
    "            print(\"Предупреждение: Последний список неполный.\")\n",
    "            #Можно добавить обработку неполного списка, например, дополнить нулями\n",
    "            data.append(current_list + [0] * (10 - len(current_list)))\n",
    "            # Или не добавлять его вовсе\n",
    "            #pass\n",
    "\n",
    "\n",
    "        return data\n",
    "\n",
    "    except FileNotFoundError:\n",
    "        print(f\"Ошибка: Файл не найден: {filename}\")\n",
    "        return None\n",
    "    except Exception as e:\n",
    "        print(f\"Ошибка при чтении файла: {e}\")\n",
    "        return None"
   ]
  },
  {
   "cell_type": "code",
   "execution_count": 34,
   "id": "11624da9-0688-4120-b4b9-dcc61749c7b7",
   "metadata": {},
   "outputs": [],
   "source": [
    "def print_mass(mass):\n",
    "    for row in mass:\n",
    "        for elem in row:\n",
    "            print(f\"{elem:6.2f}\", end = '')\n",
    "        print()\n",
    "    "
   ]
  },
  {
   "cell_type": "code",
   "execution_count": 42,
   "id": "dbe3046c-9c12-4bc4-bee5-a5dd824b0d4d",
   "metadata": {},
   "outputs": [],
   "source": [
    "import numpy as np\n",
    "import scipy.stats as stats\n",
    "\n",
    "def weibull_binning(data, num_bins=6): # Добавлен plot_fit\n",
    "    # 1. Преобразование данных в одномерный массив\n",
    "    flat_data = data.flatten()\n",
    "\n",
    "    # 2. Сдвиг данных (если необходимо)\n",
    "    min_val = np.min(flat_data)\n",
    "    if min_val < 0:\n",
    "        shift = -min_val\n",
    "        flat_data = flat_data + shift\n",
    "    else:\n",
    "        shift = 0\n",
    "\n",
    "    # 3. Оценка параметров распределения Вейбулла\n",
    "    try:\n",
    "        k, loc, scale = stats.weibull_min.fit(flat_data, floc=0)\n",
    "    except RuntimeError:\n",
    "        print(\"Не удалось оценить параметры распределения Вейбулла.\")\n",
    "        return None, None\n",
    "    except Exception as e: #Добавлено для перехвата других возможных исключений\n",
    "        print(f\"Произошла ошибка при оценке параметров Вейбулла: {e}\")\n",
    "        return None, None\n",
    "\n",
    "    # 4. Создание границ отрезков\n",
    "    percentiles = np.linspace(0, 100, num_bins + 1)\n",
    "    bin_edges = stats.weibull_min.ppf(percentiles / 100, k, loc, scale)\n",
    "\n",
    "    # 5. Сдвиг границ обратно\n",
    "    bin_edges = bin_edges - shift\n",
    "\n",
    "    # 6. Применение биннинга\n",
    "    binned_flat_data = np.digitize(flat_data, bin_edges, right=False) - 1\n",
    "\n",
    "    # 7. Обработка значений, выходящих за границы\n",
    "    binned_flat_data[binned_flat_data == -1] = 0\n",
    "    binned_flat_data[binned_flat_data == num_bins] = num_bins - 1\n",
    "\n",
    "    # 8. Возврат к исходной форме\n",
    "    binned_data = binned_flat_data.reshape(data.shape)\n",
    "\n",
    "    # 9. Визуализация (по желанию) - для диагностики\n",
    "    bin_edges[-1] = max(data).item() +0.001\n",
    "    return bin_edges"
   ]
  },
  {
   "cell_type": "code",
   "execution_count": 36,
   "id": "3919c1d0-9f8e-49f3-9aae-8e765da0ddec",
   "metadata": {},
   "outputs": [
    {
     "name": "stdout",
     "output_type": "stream",
     "text": [
      "Предупреждение: Последний список неполный.\n",
      " -9.19 -9.60-15.28-13.67-14.23-10.65 -1.22 -4.23 -2.42  0.43\n",
      "-23.23-11.55 -9.31-15.05 -8.09-12.80  0.27 -0.01 -0.36  3.96\n",
      "-20.21-16.05-14.86 -2.89  0.64 -0.50 -3.57  0.40  1.36  1.13\n",
      " -4.20 -6.30 -9.27-13.53 -6.63 -5.22 -0.84 -3.33 -0.60  2.74\n",
      "-14.67 -8.91 -9.05 -5.88 -5.18 -5.85 -7.81 -2.51 -1.50  2.78\n",
      "-11.90-17.46-17.21 -6.70-12.32 -6.92  1.85  0.32  1.00  4.15\n",
      "-17.67-20.19-15.21 -3.59 -5.42 -7.14  0.60 -0.04  1.10  4.20\n",
      "-20.59-16.25 -7.40 -8.07 -7.66-12.30 -7.36  0.26  2.71  1.77\n",
      " -3.94 -5.96 -6.76-16.32-17.19-15.93 -6.47  1.70  1.45  3.79\n",
      " -7.59 -4.45 -5.92 -1.26 -5.43 -3.41 -6.34  2.16  0.27 -0.90\n",
      "-11.16 -5.23  0.95  0.32  0.01 -4.36  0.23 -0.30  0.22  5.00\n",
      " -3.06 -2.89 -4.59 -3.91 -3.82 -2.23  0.55 -0.02  3.72  6.77\n",
      " -8.89 -4.56 -9.31 -4.02 -1.15 -2.66 -3.33 -4.82 -1.03  0.28\n",
      "-12.21 -9.24-16.43-14.74-11.55-14.53 -1.80 -1.44 -0.32  2.52\n",
      "-10.90 -2.88 -5.49 -9.20 -3.53 -0.81 -1.50 -0.63  1.29  3.61\n",
      "-11.01  0.81 -3.11 -3.58 -1.66 -3.36 -2.36 -0.24 -0.95  4.00\n",
      "-13.41-23.21-17.50-12.96 -9.16 -1.63  0.36  2.28  2.05  1.81\n",
      "-10.70 -3.24 -4.86 -9.00 -2.63 -4.82 -4.03  0.78 -0.85  2.21\n",
      " -4.63 -6.90-12.20-11.31 -4.02 -5.49 -4.09 -2.89  0.89  2.90\n",
      "-11.13-17.03 -1.28 -2.39 -2.67 -4.55 -5.16 -2.31  0.19 -2.09\n"
     ]
    }
   ],
   "source": [
    "data_temp_all = read_data(\"decANDsrTutf8.txt\")\n",
    "\n",
    "print_mass(data_temp_all[:-1])\n"
   ]
  },
  {
   "cell_type": "code",
   "execution_count": 43,
   "id": "9689b9cc-4b93-4a0b-890f-ac3aec0a6aa0",
   "metadata": {},
   "outputs": [
    {
     "name": "stdout",
     "output_type": "stream",
     "text": [
      "-15.89-13.39-11.24 -9.03 -6.24 -3.06\n",
      "-14.61-11.69 -9.19 -6.62 -3.37  0.81\n",
      "-14.46-12.35-10.17 -7.57 -3.79  0.95\n",
      "-12.44-10.33 -8.31 -6.02 -2.89  0.32\n",
      " -9.42 -7.31 -5.58 -3.86 -1.74  0.64\n",
      " -9.76 -7.74 -6.03 -4.27 -2.06 -0.50\n",
      " -5.15 -3.89 -2.74 -1.47  0.21  1.85\n",
      " -2.34 -1.45 -0.68  0.12  1.15  2.28\n",
      " -0.78 -0.13  0.44  1.05  1.84  3.72\n",
      "  0.99  1.93  2.72  3.51  4.50  6.77\n",
      "  0.75  0.00  0.25  0.00  0.00  0.00\n",
      "  0.50  0.00  0.00  0.50  0.00  0.00\n",
      "  0.50  0.00  0.50  0.00  0.00  0.00\n",
      "  0.17  0.00  0.17  0.00  0.17  0.50\n",
      "  0.00  0.00  0.00  0.00  1.00  0.00\n",
      "  0.00  0.00  0.00  0.25  0.50  0.25\n",
      "[0. 0. 0. 0. 1. 0.]\n",
      "  0.67  0.00  0.00  0.00  0.17  0.17\n",
      "  0.00  0.00  0.00  0.00  0.00  0.00\n",
      "  0.67  0.00  0.00  0.33  0.00  0.00\n",
      "  0.00  0.00  0.50  0.50  0.00  0.00\n",
      "  0.00  0.00  0.00  0.40  0.40  0.20\n",
      "  0.00  0.00  0.00  0.00  0.75  0.25\n",
      "[0.  0.  0.  0.4 0.4 0.2]\n",
      "  0.50  0.00  0.00  0.17  0.33  0.00\n",
      "  0.00  0.00  0.00  0.00  0.00  0.00\n",
      "  0.00  1.00  0.00  0.00  0.00  0.00\n",
      "  0.50  0.00  0.00  0.00  0.50  0.00\n",
      "  0.17  0.00  0.33  0.17  0.17  0.17\n",
      "  0.00  0.00  0.00  0.00  0.33  0.67\n",
      "[0.26666667 0.         0.13333333 0.06666667 0.33333333 0.2       ]\n",
      "  0.50  0.33  0.17  0.00  0.00  0.00\n",
      "  0.00  0.00  0.00  1.00  0.00  0.00\n",
      "  0.00  0.00  0.00  0.00  1.00  0.00\n",
      "  0.50  0.50  0.00  0.00  0.00  0.00\n",
      "  0.00  0.00  0.00  0.33  0.17  0.50\n",
      "  0.00  0.00  0.00  0.33  0.33  0.33\n",
      "[0.16666667 0.12222222 0.04444444 0.17777778 0.25555556 0.23333333]\n",
      "  0.75  0.00  0.25  0.00  0.00  0.00\n",
      "  0.67  0.00  0.00  0.00  0.00  0.33\n",
      "  0.00  0.00  0.00  1.00  0.00  0.00\n",
      "  0.00  0.00  0.25  0.50  0.25  0.00\n",
      "  0.00  0.00  0.00  0.50  0.25  0.25\n",
      "  0.00  0.00  0.00  0.25  0.50  0.25\n",
      "[0.20648148 0.         0.08611111 0.31944444 0.225      0.16296296]\n",
      "  0.40  0.00  0.00  0.20  0.20  0.20\n",
      "  0.00  0.00  0.00  0.00  0.00  0.00\n",
      "  0.00  0.00  0.00  0.00  0.00  1.00\n",
      "  0.33  0.33  0.00  0.00  0.17  0.17\n",
      "  0.25  0.00  0.25  0.25  0.00  0.25\n",
      "  0.00  0.00  0.33  0.33  0.00  0.33\n",
      "[0.24532407 0.10648148 0.11057099 0.15186728 0.09453704 0.29121914]\n",
      "  0.20  0.20  0.00  0.00  0.20  0.40\n",
      "  0.50  0.00  0.00  0.00  0.50  0.00\n",
      "  0.50  0.00  0.00  0.00  0.50  0.00\n",
      "  0.00  0.00  0.33  0.67  0.00  0.00\n",
      "  1.00  0.00  0.00  0.00  0.00  0.00\n",
      "  0.00  0.00  0.00  0.67  0.17  0.17\n",
      "[0.25212809 0.04906481 0.05062243 0.29539095 0.20612757 0.14666615]\n",
      "  0.60  0.20  0.00  0.20  0.00  0.00\n",
      "  0.00  0.00  1.00  0.00  0.00  0.00\n",
      "  0.00  1.00  0.00  0.00  0.00  0.00\n",
      "  0.17  0.17  0.17  0.00  0.33  0.17\n",
      "  0.25  0.00  0.00  0.25  0.25  0.25\n",
      "  0.00  0.00  0.33  0.00  0.33  0.33\n",
      "[0.25204057 0.15027987 0.14718536 0.10195751 0.19888426 0.14965243]\n",
      "  0.40  0.00  0.20  0.20  0.20  0.00\n",
      "  0.00  0.00  0.33  0.33  0.33  0.00\n",
      "  0.67  0.00  0.00  0.00  0.00  0.33\n",
      "  0.00  0.00  0.00  0.50  0.50  0.00\n",
      "  0.00  0.25  0.00  0.00  0.75  0.00\n",
      "  0.00  0.67  0.00  0.00  0.00  0.33\n",
      "[0.1989398  0.14948935 0.1005014  0.15148016 0.30064335 0.09894593]\n"
     ]
    }
   ],
   "source": [
    "data_year = np.array(data_temp_all[:-1])\n",
    "data_temp_pi = data_temp_all[-1][0]\n",
    "\n",
    "temp_diapazon = [weibull_binning(data_year[:, i:i+1])[1:] for i in range(10)]\n",
    "print_mass(temp_diapazon)\n",
    "\n",
    "\n",
    "def mass_diap_temp(diap, point):\n",
    "    #В каком диапазоне находится данная температура\n",
    "    Temp_in_diap = []\n",
    "    for year in data_year:\n",
    "        i = 0\n",
    "        while year[point] >= diap[i]:\n",
    "            i+=1\n",
    "        Temp_in_diap.append(i)\n",
    "    return Temp_in_diap\n",
    "\n",
    "\n",
    "def count_pereh(len_temp_d1, len_temp_d2, T_in_diap1, T_in_diap2):\n",
    "    Diap = [[0 for k in range(len_temp_d2)]for i in range(len_temp_d1)]\n",
    "    for i in range(len(T_in_diap1)):\n",
    "        Diap[T_in_diap1[i]][T_in_diap2[i]] += 1\n",
    "    return Diap\n",
    "\n",
    "def form_P_m(dp):\n",
    "    p_m = [[0 for i in range(len(dp[0]))] for i in range((len(dp)))]\n",
    "    for i in range(len(dp)):\n",
    "        for j in range((len(dp[0]))):\n",
    "            if sum(dp[i]) == 0:\n",
    "                p_m[i][j]\n",
    "            else:\n",
    "                p_m[i][j] = dp[i][j] / sum(dp[i])\n",
    "    print_mass(p_m)\n",
    "    return p_m\n",
    "\n",
    "def transpon_matr(mass): \n",
    "    \n",
    "    rows = len(mass)\n",
    "    cols = len(mass[0])\n",
    "\n",
    "    transposed_matrix = [[0 for _ in range(rows)] for _ in range(cols)]\n",
    "\n",
    "    # Заполняем транспонированную матрицу\n",
    "    for i in range(rows):\n",
    "        for j in range(cols):\n",
    "            transposed_matrix[j][i] = mass[i][j]\n",
    "\n",
    "    return transposed_matrix\n",
    "\n",
    "Temp_in_diap = []\n",
    "Temp_in_diap.append(mass_diap_temp(temp_diapazon[0], 0))\n",
    "\n",
    "Pi_10 = [0 for i in temp_diapazon[0]]\n",
    "j = 0\n",
    "while data_temp_pi >= temp_diapazon[0][j]:\n",
    "    j+=1\n",
    "Pi_10[j] = 1\n",
    "\n",
    "for i in range(9):\n",
    "    Temp_in_diap.append(mass_diap_temp(temp_diapazon[i+1], i+1))\n",
    "    diap = count_pereh(len(temp_diapazon[i]), len(temp_diapazon[i+1]), Temp_in_diap[i], Temp_in_diap[i+1])\n",
    "    P_m = form_P_m(diap)\n",
    "    P_m_t = transpon_matr(P_m)\n",
    "    try:\n",
    "        Pi_10 = np.dot(np.array(P_m_t), np.array(Pi_10))\n",
    "        print(Pi_10)\n",
    "    except np.linalg.LinAlgError:\n",
    "        print(\"Матрица A сингулярна (нет решения или бесконечно много решений)\")\n",
    "\n",
    "\n",
    "    "
   ]
  },
  {
   "cell_type": "code",
   "execution_count": 44,
   "id": "2610ab46-e391-4212-b4f6-3b68f4890bb8",
   "metadata": {},
   "outputs": [
    {
     "name": "stdout",
     "output_type": "stream",
     "text": [
      "[  0.1; 0.995]:  19.9%\n",
      "[0.995;  1.93]:  14.9%\n",
      "[ 1.93;  2.72]:  10.1%\n",
      "[ 2.72;  3.51]:  15.1%\n",
      "[ 3.51;   4.5]:  30.1%\n",
      "[  4.5;  6.77]:  9.89%\n"
     ]
    }
   ],
   "source": [
    "print(f\"[{0.1:5.3}; {temp_diapazon[9][0]:5.3}]: {(Pi_10[0]*100):5.3}%\")\n",
    "for i in range(1, len(temp_diapazon[9])):\n",
    "    print(f\"[{temp_diapazon[9][i-1]:5.3}; {temp_diapazon[9][i]:5.3}]: {(Pi_10[i]*100):5.3}%\")"
   ]
  },
  {
   "cell_type": "code",
   "execution_count": 30,
   "id": "90ec0798-b302-44d7-8f9d-6f44e467f4e3",
   "metadata": {},
   "outputs": [
    {
     "name": "stdout",
     "output_type": "stream",
     "text": [
      "[0, 0, 0, 1, 0]\n"
     ]
    }
   ],
   "source": [
    "#Определяем матрицу Pi\n",
    "Pi = [0 for i in temp_diapazon1]\n",
    "i = 0\n",
    "while data_temp_pi >= temp_diapazon1[i]:\n",
    "    i+=1\n",
    "Pi[i] = 1\n",
    "print(Pi)"
   ]
  },
  {
   "cell_type": "code",
   "execution_count": 28,
   "id": "cccdb578-687e-414e-97d7-276f121df61d",
   "metadata": {},
   "outputs": [
    {
     "name": "stdout",
     "output_type": "stream",
     "text": [
      "  0.00  0.00  0.00  1.00  0.00  0.00\n",
      "  0.00  0.00  2.00  1.00  0.00  0.00\n",
      "  0.00  0.00  2.00  2.00  0.00  0.00\n",
      "  1.00  3.00  1.00  2.00  1.00  0.00\n",
      "  0.00  0.00  0.00  3.00  0.00  1.00\n"
     ]
    }
   ],
   "source": [
    "#Сколько каких переходов было\n",
    "# Diap = [[0 for i in temp_diapazon1] for i in temp_diapazon2]\n",
    "# for year in Temp_in_diap:\n",
    "#     for i in range(len(year) - 1):\n",
    "#         Diap[year[i]][year[i+1]] +=1\n",
    "# print_mass(Diap)\n",
    "\n",
    "diap = count_pereh(len(temp_diapazon1), len(temp_diapazon2), Temp_in_diap1, Temp_in_diap2)\n",
    "print_mass(diap)\n",
    "\n",
    "\n",
    "#Вероятности переходов = число переходов в этой ячейке / суммарное число переходов в строке\n",
    "# P_m = [[0 for i in temp_diapazon] for i in temp_diapazon]\n",
    "# for i in range(len(temp_diapazon)):\n",
    "#     for j in range((len(temp_diapazon))):\n",
    "#         P_m[i][j] = Diap[i][j] / sum(Diap[i])\n",
    "# print_mass(P_m)"
   ]
  },
  {
   "cell_type": "code",
   "execution_count": 29,
   "id": "fff2fc72-6145-4ccb-b38f-d7b58140d94a",
   "metadata": {},
   "outputs": [
    {
     "name": "stdout",
     "output_type": "stream",
     "text": [
      "  0.00  0.00  0.00  1.00  0.00  0.00\n",
      "  0.00  0.00  0.67  0.33  0.00  0.00\n",
      "  0.00  0.00  0.50  0.50  0.00  0.00\n",
      "  0.12  0.38  0.12  0.25  0.12  0.00\n",
      "  0.00  0.00  0.00  0.75  0.00  0.25\n"
     ]
    }
   ],
   "source": [
    "P_m = form_P_m(diap)"
   ]
  },
  {
   "cell_type": "code",
   "execution_count": 31,
   "id": "08f0c533-76fb-4ed7-b702-5c0731857fe9",
   "metadata": {},
   "outputs": [],
   "source": []
  },
  {
   "cell_type": "code",
   "execution_count": 33,
   "id": "238ac679-4d00-410a-94ed-02f2feb1e001",
   "metadata": {},
   "outputs": [
    {
     "name": "stdout",
     "output_type": "stream",
     "text": [
      "  0.00  0.00  0.00  0.12  0.00\n",
      "  0.00  0.00  0.00  0.38  0.00\n",
      "  0.00  0.67  0.50  0.12  0.00\n",
      "  1.00  0.33  0.50  0.25  0.75\n",
      "  0.00  0.00  0.00  0.12  0.00\n",
      "  0.00  0.00  0.00  0.00  0.25\n"
     ]
    }
   ],
   "source": [
    "P_m_t = transpon_matr(P_m)\n",
    "print_mass(P_m_t)"
   ]
  },
  {
   "cell_type": "code",
   "execution_count": 36,
   "id": "942126db-91d9-4dfe-9180-2f1dfa88bbf4",
   "metadata": {},
   "outputs": [
    {
     "name": "stdout",
     "output_type": "stream",
     "text": [
      "[0.125 0.375 0.125 0.25  0.125 0.   ]\n"
     ]
    }
   ],
   "source": [
    "\n",
    "try:\n",
    "    Pi_10 = np.dot(np.array(P_m_t), np.array(Pi))\n",
    "    print(Pi_10)\n",
    "except np.linalg.LinAlgError:\n",
    "    print(\"Матрица A сингулярна (нет решения или бесконечно много решений)\")"
   ]
  }
 ],
 "metadata": {
  "kernelspec": {
   "display_name": "Python 3 (ipykernel)",
   "language": "python",
   "name": "python3"
  },
  "language_info": {
   "codemirror_mode": {
    "name": "ipython",
    "version": 3
   },
   "file_extension": ".py",
   "mimetype": "text/x-python",
   "name": "python",
   "nbconvert_exporter": "python",
   "pygments_lexer": "ipython3",
   "version": "3.13.1"
  }
 },
 "nbformat": 4,
 "nbformat_minor": 5
}
