{
 "cells": [
  {
   "cell_type": "code",
   "execution_count": 2,
   "id": "e4465cbe-85e8-4434-966b-13f1e711ab0c",
   "metadata": {},
   "outputs": [],
   "source": [
    "def read_data(filename):\n",
    "    \"\"\"\n",
    "    Считывает данные из файла, формируя двумерный список.\n",
    "\n",
    "    Args:\n",
    "        filename: Имя файла с данными.\n",
    "\n",
    "    Returns:\n",
    "        Двумерный список, где каждый подсписок содержит 10 значений.\n",
    "        Возвращает None, если файл не может быть открыт или формат файла неверен.\n",
    "    \"\"\"\n",
    "    data = []\n",
    "    current_list = []\n",
    "    try:\n",
    "        with open(filename, 'r') as f:\n",
    "            for line in f:\n",
    "                line = line.strip()  # Удаляем пробелы в начале и конце строки\n",
    "                if not line:  # Пропускаем пустые строки\n",
    "                    continue\n",
    "\n",
    "                try:\n",
    "                    index, value = line.split('\\t')  # Разделяем строку на индекс и значение (разделитель - табуляция)\n",
    "                    value = float(value)  # Преобразуем значение в число с плавающей точкой\n",
    "                    current_list.append(value)\n",
    "                except ValueError:\n",
    "                    print(f\"Ошибка: Неверный формат строки: {line}\")\n",
    "                    return None  # Прерываем чтение файла\n",
    "\n",
    "                if len(current_list) == 10:\n",
    "                    data.append(current_list)\n",
    "                    current_list = []  # Начинаем новый подсписок\n",
    "\n",
    "        # Проверяем, что количество элементов в последнем списке равно 10 (если есть неполный список)\n",
    "        if current_list:\n",
    "            print(\"Предупреждение: Последний список неполный.\")\n",
    "            #Можно добавить обработку неполного списка, например, дополнить нулями\n",
    "            data.append(current_list + [0] * (10 - len(current_list)))\n",
    "            # Или не добавлять его вовсе\n",
    "            #pass\n",
    "\n",
    "\n",
    "        return data\n",
    "\n",
    "    except FileNotFoundError:\n",
    "        print(f\"Ошибка: Файл не найден: {filename}\")\n",
    "        return None\n",
    "    except Exception as e:\n",
    "        print(f\"Ошибка при чтении файла: {e}\")\n",
    "        return None"
   ]
  },
  {
   "cell_type": "code",
   "execution_count": 3,
   "id": "11624da9-0688-4120-b4b9-dcc61749c7b7",
   "metadata": {},
   "outputs": [],
   "source": [
    "def print_mass(mass):\n",
    "    for row in mass:\n",
    "        for elem in row:\n",
    "            print(f\"{elem:6.2f}\", end = '')\n",
    "        print()\n",
    "    "
   ]
  },
  {
   "cell_type": "code",
   "execution_count": 21,
   "id": "3919c1d0-9f8e-49f3-9aae-8e765da0ddec",
   "metadata": {},
   "outputs": [
    {
     "name": "stdout",
     "output_type": "stream",
     "text": [
      "Предупреждение: Последний список неполный.\n",
      " -9.19 -9.60-15.28-13.67-14.23-10.65 -1.22 -4.23 -2.42  0.43\n",
      "-23.23-11.55 -9.31-15.05 -8.09-12.80  0.27 -0.01 -0.36  3.96\n",
      "-20.21-16.05-14.86 -2.89  0.64 -0.50 -3.57  0.40  1.36  1.13\n",
      " -4.20 -6.30 -9.27-13.53 -6.63 -5.22 -0.84 -3.33 -0.60  2.74\n",
      "-14.67 -8.91 -9.05 -5.88 -5.18 -5.85 -7.81 -2.51 -1.50  2.78\n",
      "-11.90-17.46-17.21 -6.70-12.32 -6.92  1.85  0.32  1.00  4.15\n",
      "-17.67-20.19-15.21 -3.59 -5.42 -7.14  0.60 -0.04  1.10  4.20\n",
      "-20.59-16.25 -7.40 -8.07 -7.66-12.30 -7.36  0.26  2.71  1.77\n",
      " -3.94 -5.96 -6.76-16.32-17.19-15.93 -6.47  1.70  1.45  3.79\n",
      " -7.59 -4.45 -5.92 -1.26 -5.43 -3.41 -6.34  2.16  0.27 -0.90\n",
      "-11.16 -5.23  0.95  0.32  0.01 -4.36  0.23 -0.30  0.22  5.00\n",
      " -3.06 -2.89 -4.59 -3.91 -3.82 -2.23  0.55 -0.02  3.72  6.77\n",
      " -8.89 -4.56 -9.31 -4.02 -1.15 -2.66 -3.33 -4.82 -1.03  0.28\n",
      "-12.21 -9.24-16.43-14.74-11.55-14.53 -1.80 -1.44 -0.32  2.52\n",
      "-10.90 -2.88 -5.49 -9.20 -3.53 -0.81 -1.50 -0.63  1.29  3.61\n",
      "-11.01  0.81 -3.11 -3.58 -1.66 -3.36 -2.36 -0.24 -0.95  4.00\n",
      "-13.41-23.21-17.50-12.96 -9.16 -1.63  0.36  2.28  2.05  1.81\n",
      "-10.70 -3.24 -4.86 -9.00 -2.63 -4.82 -4.03  0.78 -0.85  2.21\n",
      " -4.63 -6.90-12.20-11.31 -4.02 -5.49 -4.09 -2.89  0.89  2.90\n",
      "-11.13-17.03 -1.28 -2.39 -2.67 -4.55 -5.16 -2.31  0.19 -2.09\n",
      "\n",
      "[-8.33, -9.96, -1.7, -1.3, 0, 0, 0, 0, 0, 0]\n"
     ]
    }
   ],
   "source": [
    "data_temp_all = read_data(\"decANDsrTutf8.txt\")\n",
    "\n",
    "print_mass(data_temp_all[:-1])\n",
    "print()\n",
    "\n",
    "print(data_temp_all[-1])\n"
   ]
  },
  {
   "cell_type": "code",
   "execution_count": 25,
   "id": "9689b9cc-4b93-4a0b-890f-ac3aec0a6aa0",
   "metadata": {},
   "outputs": [
    {
     "name": "stdout",
     "output_type": "stream",
     "text": [
      "[3, 0, 1, 4, 2, 2, 1, 1, 4, 3, 3, 4, 3, 2, 3, 3, 2, 3, 4, 3]\n",
      "\n",
      "[1, 3, 2, 3, 3, 3, 3, 2, 3, 1, 4, 5, 1, 2, 3, 3, 2, 2, 3, 0]\n",
      "\n"
     ]
    }
   ],
   "source": [
    "temp_diapazon = [-17.6, -11.35, -5.09, 1.17, 7.43]\n",
    "temp_diapazon1 = [-22.8, -17.2, -11.5, -5.9, -0.2]\n",
    "temp_diapazon2 =  [-1.6, 0.47, 2.6, 4.6, 6.7, 8.8]\n",
    "\n",
    "data_year = data_temp_all[:-1]\n",
    "data_temp_pi = data_temp_all[-1][0]\n",
    "\n",
    "def mass_diap_temp(diap, point):\n",
    "    #В каком диапазоне находится данная температура\n",
    "    Temp_in_diap = []\n",
    "    for year in data_year:\n",
    "        i = 0\n",
    "        while year[point] >= diap[i]:\n",
    "            i+=1\n",
    "        Temp_in_diap.append(i)\n",
    "    return Temp_in_diap\n",
    "\n",
    "Temp_in_diap1 = mass_diap_temp(temp_diapazon1, 0)\n",
    "print(Temp_in_diap1)\n",
    "print()\n",
    "Temp_in_diap2 = mass_diap_temp(temp_diapazon2, 9)\n",
    "print(Temp_in_diap2)\n",
    "print()"
   ]
  },
  {
   "cell_type": "code",
   "execution_count": 28,
   "id": "cccdb578-687e-414e-97d7-276f121df61d",
   "metadata": {},
   "outputs": [
    {
     "name": "stdout",
     "output_type": "stream",
     "text": [
      "  0.00  0.00  0.00  1.00  0.00  0.00\n",
      "  0.00  0.00  2.00  1.00  0.00  0.00\n",
      "  0.00  0.00  2.00  2.00  0.00  0.00\n",
      "  1.00  3.00  1.00  2.00  1.00  0.00\n",
      "  0.00  0.00  0.00  3.00  0.00  1.00\n"
     ]
    }
   ],
   "source": [
    "#Сколько каких переходов было\n",
    "# Diap = [[0 for i in temp_diapazon1] for i in temp_diapazon2]\n",
    "# for year in Temp_in_diap:\n",
    "#     for i in range(len(year) - 1):\n",
    "#         Diap[year[i]][year[i+1]] +=1\n",
    "# print_mass(Diap)\n",
    "\n",
    "def count_pereh(len_temp_d1, len_temp_d2, T_in_diap1, T_in_diap2):\n",
    "    Diap = [[0 for k in range(len_temp_d2)]for i in range(len_temp_d1)]\n",
    "    for i in range(len(T_in_diap1)):\n",
    "        Diap[T_in_diap1[i]][T_in_diap2[i]] += 1\n",
    "    return Diap\n",
    "\n",
    "diap = count_pereh(len(temp_diapazon1), len(temp_diapazon2), Temp_in_diap1, Temp_in_diap2)\n",
    "print_mass(diap)\n",
    "\n",
    "\n",
    "#Вероятности переходов = число переходов в этой ячейке / суммарное число переходов в строке\n",
    "# P_m = [[0 for i in temp_diapazon] for i in temp_diapazon]\n",
    "# for i in range(len(temp_diapazon)):\n",
    "#     for j in range((len(temp_diapazon))):\n",
    "#         P_m[i][j] = Diap[i][j] / sum(Diap[i])\n",
    "# print_mass(P_m)"
   ]
  },
  {
   "cell_type": "code",
   "execution_count": 29,
   "id": "fff2fc72-6145-4ccb-b38f-d7b58140d94a",
   "metadata": {},
   "outputs": [
    {
     "name": "stdout",
     "output_type": "stream",
     "text": [
      "  0.00  0.00  0.00  1.00  0.00  0.00\n",
      "  0.00  0.00  0.67  0.33  0.00  0.00\n",
      "  0.00  0.00  0.50  0.50  0.00  0.00\n",
      "  0.12  0.38  0.12  0.25  0.12  0.00\n",
      "  0.00  0.00  0.00  0.75  0.00  0.25\n"
     ]
    }
   ],
   "source": [
    "def form_P_m(dp):\n",
    "    p_m = [[0 for i in range(len(dp[0]))] for i in range((len(dp)))]\n",
    "    for i in range(len(dp)):\n",
    "        for j in range((len(dp[0]))):\n",
    "            p_m[i][j] = dp[i][j] / sum(dp[i])\n",
    "    print_mass(p_m)\n",
    "    return p_m\n",
    "\n",
    "P_m = form_P_m(diap)"
   ]
  },
  {
   "cell_type": "code",
   "execution_count": 30,
   "id": "90ec0798-b302-44d7-8f9d-6f44e467f4e3",
   "metadata": {},
   "outputs": [
    {
     "name": "stdout",
     "output_type": "stream",
     "text": [
      "[0, 0, 0, 1, 0]\n"
     ]
    }
   ],
   "source": [
    "#Определяем матрицу Pi\n",
    "Pi = [0 for i in temp_diapazon1]\n",
    "i = 0\n",
    "while data_temp_pi >= temp_diapazon1[i]:\n",
    "    i+=1\n",
    "Pi[i] = 1\n",
    "print(Pi)"
   ]
  },
  {
   "cell_type": "code",
   "execution_count": 31,
   "id": "08f0c533-76fb-4ed7-b702-5c0731857fe9",
   "metadata": {},
   "outputs": [],
   "source": [
    "def transpon_matr(mass): \n",
    "    \n",
    "    rows = len(mass)\n",
    "    cols = len(mass[0])\n",
    "\n",
    "    transposed_matrix = [[0 for _ in range(rows)] for _ in range(cols)]\n",
    "\n",
    "    # Заполняем транспонированную матрицу\n",
    "    for i in range(rows):\n",
    "        for j in range(cols):\n",
    "            transposed_matrix[j][i] = mass[i][j]\n",
    "\n",
    "    return transposed_matrix"
   ]
  },
  {
   "cell_type": "code",
   "execution_count": 33,
   "id": "238ac679-4d00-410a-94ed-02f2feb1e001",
   "metadata": {},
   "outputs": [
    {
     "name": "stdout",
     "output_type": "stream",
     "text": [
      "  0.00  0.00  0.00  0.12  0.00\n",
      "  0.00  0.00  0.00  0.38  0.00\n",
      "  0.00  0.67  0.50  0.12  0.00\n",
      "  1.00  0.33  0.50  0.25  0.75\n",
      "  0.00  0.00  0.00  0.12  0.00\n",
      "  0.00  0.00  0.00  0.00  0.25\n"
     ]
    }
   ],
   "source": [
    "P_m_t = transpon_matr(P_m)\n",
    "print_mass(P_m_t)"
   ]
  },
  {
   "cell_type": "code",
   "execution_count": 36,
   "id": "942126db-91d9-4dfe-9180-2f1dfa88bbf4",
   "metadata": {},
   "outputs": [
    {
     "name": "stdout",
     "output_type": "stream",
     "text": [
      "[0.125 0.375 0.125 0.25  0.125 0.   ]\n"
     ]
    }
   ],
   "source": [
    "import numpy as np\n",
    "\n",
    "try:\n",
    "    Pi_10 = np.dot(np.array(P_m_t), np.array(Pi))\n",
    "    print(Pi_10)\n",
    "except np.linalg.LinAlgError:\n",
    "    print(\"Матрица A сингулярна (нет решения или бесконечно много решений)\")"
   ]
  },
  {
   "cell_type": "code",
   "execution_count": 39,
   "id": "2610ab46-e391-4212-b4f6-3b68f4890bb8",
   "metadata": {},
   "outputs": [
    {
     "name": "stdout",
     "output_type": "stream",
     "text": [
      "[ -3.7;  -1.6]:  12.5%\n",
      "[ -1.6;  0.47]:  37.5%\n",
      "[ 0.47;   2.6]:  12.5%\n",
      "[  2.6;   4.6]:  25.0%\n",
      "[  4.6;   6.7]:  12.5%\n",
      "[  6.7;   8.8]:   0.0%\n"
     ]
    }
   ],
   "source": [
    "print(f\"[{-3.7:5.3}; {temp_diapazon2[0]:5.3}]: {(Pi_10[0]*100):5.3}%\")\n",
    "for i in range(1, len(temp_diapazon2)):\n",
    "    print(f\"[{temp_diapazon2[i-1]:5.3}; {temp_diapazon2[i]:5.3}]: {(Pi_10[i]*100):5.3}%\")"
   ]
  }
 ],
 "metadata": {
  "kernelspec": {
   "display_name": "Python 3 (ipykernel)",
   "language": "python",
   "name": "python3"
  },
  "language_info": {
   "codemirror_mode": {
    "name": "ipython",
    "version": 3
   },
   "file_extension": ".py",
   "mimetype": "text/x-python",
   "name": "python",
   "nbconvert_exporter": "python",
   "pygments_lexer": "ipython3",
   "version": "3.13.1"
  }
 },
 "nbformat": 4,
 "nbformat_minor": 5
}
