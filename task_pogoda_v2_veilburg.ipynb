{
 "cells": [
  {
   "cell_type": "code",
   "execution_count": 2,
   "id": "e4465cbe-85e8-4434-966b-13f1e711ab0c",
   "metadata": {},
   "outputs": [],
   "source": [
    "def read_data(filename):\n",
    "    \"\"\"\n",
    "    Считывает данные из файла, формируя двумерный список.\n",
    "\n",
    "    Args:\n",
    "        filename: Имя файла с данными.\n",
    "\n",
    "    Returns:\n",
    "        Двумерный список, где каждый подсписок содержит 10 значений.\n",
    "        Возвращает None, если файл не может быть открыт или формат файла неверен.\n",
    "    \"\"\"\n",
    "    data = []\n",
    "    current_list = []\n",
    "    try:\n",
    "        with open(filename, 'r') as f:\n",
    "            for line in f:\n",
    "                line = line.strip()  # Удаляем пробелы в начале и конце строки\n",
    "                if not line:  # Пропускаем пустые строки\n",
    "                    continue\n",
    "\n",
    "                try:\n",
    "                    index, value = line.split('\\t')  # Разделяем строку на индекс и значение (разделитель - табуляция)\n",
    "                    value = float(value)  # Преобразуем значение в число с плавающей точкой\n",
    "                    current_list.append(value)\n",
    "                except ValueError:\n",
    "                    print(f\"Ошибка: Неверный формат строки: {line}\")\n",
    "                    return None  # Прерываем чтение файла\n",
    "\n",
    "                if len(current_list) == 10:\n",
    "                    data.append(current_list)\n",
    "                    current_list = []  # Начинаем новый подсписок\n",
    "\n",
    "        # Проверяем, что количество элементов в последнем списке равно 10 (если есть неполный список)\n",
    "        if current_list:\n",
    "            print(\"Предупреждение: Последний список неполный.\")\n",
    "            #Можно добавить обработку неполного списка, например, дополнить нулями\n",
    "            data.append(current_list + [0] * (10 - len(current_list)))\n",
    "            # Или не добавлять его вовсе\n",
    "            #pass\n",
    "\n",
    "\n",
    "        return data\n",
    "\n",
    "    except FileNotFoundError:\n",
    "        print(f\"Ошибка: Файл не найден: {filename}\")\n",
    "        return None\n",
    "    except Exception as e:\n",
    "        print(f\"Ошибка при чтении файла: {e}\")\n",
    "        return None"
   ]
  },
  {
   "cell_type": "code",
   "execution_count": 3,
   "id": "11624da9-0688-4120-b4b9-dcc61749c7b7",
   "metadata": {},
   "outputs": [],
   "source": [
    "def print_mass(mass):\n",
    "    for row in mass:\n",
    "        for elem in row:\n",
    "            print(f\"{elem:6.2f}\", end = '')\n",
    "        print()\n",
    "    "
   ]
  },
  {
   "cell_type": "code",
   "execution_count": 4,
   "id": "3919c1d0-9f8e-49f3-9aae-8e765da0ddec",
   "metadata": {},
   "outputs": [
    {
     "name": "stdout",
     "output_type": "stream",
     "text": [
      "Предупреждение: Последний список неполный.\n",
      " -9.19 -9.60-15.28-13.67-14.23-10.65 -1.22 -4.23 -2.42  0.43\n",
      "-23.23-11.55 -9.31-15.05 -8.09-12.80  0.27 -0.01 -0.36  3.96\n",
      "-20.21-16.05-14.86 -2.89  0.64 -0.50 -3.57  0.40  1.36  1.13\n",
      " -4.20 -6.30 -9.27-13.53 -6.63 -5.22 -0.84 -3.33 -0.60  2.74\n",
      "-14.67 -8.91 -9.05 -5.88 -5.18 -5.85 -7.81 -2.51 -1.50  2.78\n",
      "-11.90-17.46-17.21 -6.70-12.32 -6.92  1.85  0.32  1.00  4.15\n",
      "-17.67-20.19-15.21 -3.59 -5.42 -7.14  0.60 -0.04  1.10  4.20\n",
      "-20.59-16.25 -7.40 -8.07 -7.66-12.30 -7.36  0.26  2.71  1.77\n",
      " -3.94 -5.96 -6.76-16.32-17.19-15.93 -6.47  1.70  1.45  3.79\n",
      " -7.59 -4.45 -5.92 -1.26 -5.43 -3.41 -6.34  2.16  0.27 -0.90\n",
      "-11.16 -5.23  0.95  0.32  0.01 -4.36  0.23 -0.30  0.22  5.00\n",
      " -3.06 -2.89 -4.59 -3.91 -3.82 -2.23  0.55 -0.02  3.72  6.77\n",
      " -8.89 -4.56 -9.31 -4.02 -1.15 -2.66 -3.33 -4.82 -1.03  0.28\n",
      "-12.21 -9.24-16.43-14.74-11.55-14.53 -1.80 -1.44 -0.32  2.52\n",
      "-10.90 -2.88 -5.49 -9.20 -3.53 -0.81 -1.50 -0.63  1.29  3.61\n",
      "-11.01  0.81 -3.11 -3.58 -1.66 -3.36 -2.36 -0.24 -0.95  4.00\n",
      "-13.41-23.21-17.50-12.96 -9.16 -1.63  0.36  2.28  2.05  1.81\n",
      "-10.70 -3.24 -4.86 -9.00 -2.63 -4.82 -4.03  0.78 -0.85  2.21\n",
      " -4.63 -6.90-12.20-11.31 -4.02 -5.49 -4.09 -2.89  0.89  2.90\n",
      "-11.13-17.03 -1.28 -2.39 -2.67 -4.55 -5.16 -2.31  0.19 -2.09\n",
      "\n",
      "[-8.33, -9.96, -1.7, -1.3, 0, 0, 0, 0, 0, 0]\n"
     ]
    }
   ],
   "source": [
    "data_temp_all = read_data(\"decANDsrTutf8.txt\")\n",
    "\n",
    "print_mass(data_temp_all[:-1])\n",
    "print()\n",
    "\n",
    "print(data_temp_all[-1])\n"
   ]
  },
  {
   "cell_type": "code",
   "execution_count": 22,
   "id": "9689b9cc-4b93-4a0b-890f-ac3aec0a6aa0",
   "metadata": {},
   "outputs": [
    {
     "name": "stdout",
     "output_type": "stream",
     "text": [
      "  1.00  1.00  0.00  0.00  0.00  0.00  3.00  2.00  3.00  4.00\n",
      "  0.00  0.00  1.00  0.00  1.00  0.00  4.00  3.00  3.00  4.00\n",
      "  0.00  0.00  0.00  3.00  4.00  3.00  3.00  4.00  4.00  4.00\n",
      "  2.00  2.00  1.00  0.00  2.00  2.00  3.00  3.00  3.00  4.00\n",
      "  0.00  1.00  1.00  2.00  2.00  2.00  1.00  3.00  3.00  4.00\n",
      "  0.00  0.00  0.00  2.00  0.00  1.00  4.00  4.00  4.00  4.00\n",
      "  0.00  0.00  0.00  3.00  2.00  1.00  4.00  3.00  4.00  4.00\n",
      "  0.00  0.00  1.00  1.00  1.00  0.00  1.00  4.00  4.00  4.00\n",
      "  2.00  2.00  2.00  0.00  0.00  0.00  2.00  4.00  4.00  4.00\n",
      "  1.00  2.00  2.00  3.00  2.00  3.00  2.00  4.00  4.00  3.00\n",
      "  0.00  2.00  4.00  4.00  3.00  2.00  4.00  3.00  4.00  4.00\n",
      "  3.00  3.00  2.00  2.00  2.00  3.00  4.00  3.00  4.00  4.00\n",
      "  1.00  2.00  1.00  2.00  3.00  3.00  3.00  2.00  3.00  4.00\n",
      "  0.00  1.00  0.00  0.00  0.00  0.00  3.00  3.00  3.00  4.00\n",
      "  0.00  3.00  2.00  1.00  3.00  3.00  3.00  3.00  4.00  4.00\n",
      "  0.00  4.00  3.00  3.00  3.00  3.00  3.00  3.00  3.00  4.00\n",
      "  0.00  0.00  0.00  0.00  1.00  3.00  4.00  4.00  4.00  4.00\n",
      "  0.00  3.00  2.00  1.00  3.00  2.00  2.00  4.00  3.00  4.00\n",
      "  2.00  1.00  0.00  0.00  2.00  2.00  2.00  3.00  4.00  4.00\n",
      "  0.00  0.00  3.00  3.00  3.00  2.00  2.00  3.00  4.00  3.00\n"
     ]
    }
   ],
   "source": [
    "temp_diapazon = [-10.45123527,  -6.80335437,  -3.61940009,   0.03310701, 10.]\n",
    "temp_diapazon[-1] = max(max(data_year))+0.01\n",
    "data_year = data_temp_all[:-1]\n",
    "data_temp_pi = data_temp_all[-1][0]\n",
    "\n",
    "#В каком диапазоне находится данная температура\n",
    "Temp_in_diap = []\n",
    "for year in data_year:\n",
    "    Temp_in_diap_local = []\n",
    "    for day in year:\n",
    "        i = 0\n",
    "        while day >= temp_diapazon[i]:\n",
    "            i+=1\n",
    "        Temp_in_diap_local.append(i)\n",
    "    \n",
    "    Temp_in_diap.append(Temp_in_diap_local)\n",
    "\n",
    "# P_m = [[0 for i in temp_diapazon] for i in temp_diapazon]\n",
    "\n",
    "print_mass(Temp_in_diap)"
   ]
  },
  {
   "cell_type": "code",
   "execution_count": 23,
   "id": "cccdb578-687e-414e-97d7-276f121df61d",
   "metadata": {},
   "outputs": [
    {
     "name": "stdout",
     "output_type": "stream",
     "text": [
      " 21.00  8.00  5.00  7.00  2.00\n",
      "  7.00  4.00  4.00  4.00  3.00\n",
      "  2.00  7.00 13.00  9.00  5.00\n",
      "  0.00  0.00 11.00 21.00 18.00\n",
      "  0.00  0.00  0.00 10.00 19.00\n",
      "  0.49  0.19  0.12  0.16  0.05\n",
      "  0.32  0.18  0.18  0.18  0.14\n",
      "  0.06  0.19  0.36  0.25  0.14\n",
      "  0.00  0.00  0.22  0.42  0.36\n",
      "  0.00  0.00  0.00  0.34  0.66\n"
     ]
    }
   ],
   "source": [
    "#Сколько каких переходов было\n",
    "Diap = [[0 for i in temp_diapazon] for i in temp_diapazon]\n",
    "for year in Temp_in_diap:\n",
    "    for i in range(len(year) - 1):\n",
    "        Diap[year[i]][year[i+1]] +=1\n",
    "print_mass(Diap)\n",
    "\n",
    "#Вероятности переходов = число переходов в этой ячейке / суммарное число переходов в строке\n",
    "P_m = [[0 for i in temp_diapazon] for i in temp_diapazon]\n",
    "for i in range(len(temp_diapazon)):\n",
    "    for j in range((len(temp_diapazon))):\n",
    "        P_m[i][j] = Diap[i][j] / sum(Diap[i])\n",
    "print_mass(P_m)"
   ]
  },
  {
   "cell_type": "code",
   "execution_count": 24,
   "id": "90ec0798-b302-44d7-8f9d-6f44e467f4e3",
   "metadata": {},
   "outputs": [
    {
     "name": "stdout",
     "output_type": "stream",
     "text": [
      "[0, 1, 0, 0, 0]\n"
     ]
    }
   ],
   "source": [
    "#Определяем матрицу Pi\n",
    "Pi = [0 for i in temp_diapazon]\n",
    "i = 0\n",
    "while data_temp_pi >= temp_diapazon[i]:\n",
    "    i+=1\n",
    "Pi[i] = 1\n",
    "print(Pi)"
   ]
  },
  {
   "cell_type": "code",
   "execution_count": 25,
   "id": "08f0c533-76fb-4ed7-b702-5c0731857fe9",
   "metadata": {},
   "outputs": [],
   "source": [
    "def transpon_matr(mass): \n",
    "    \n",
    "    rows = len(mass)\n",
    "    cols = len(mass[0])\n",
    "\n",
    "    transposed_matrix = [[0 for _ in range(rows)] for _ in range(cols)]\n",
    "\n",
    "    # Заполняем транспонированную матрицу\n",
    "    for i in range(rows):\n",
    "        for j in range(cols):\n",
    "            transposed_matrix[j][i] = mass[i][j]\n",
    "\n",
    "    return transposed_matrix"
   ]
  },
  {
   "cell_type": "code",
   "execution_count": 26,
   "id": "238ac679-4d00-410a-94ed-02f2feb1e001",
   "metadata": {},
   "outputs": [],
   "source": [
    "P_m_t = transpon_matr(P_m)"
   ]
  },
  {
   "cell_type": "code",
   "execution_count": 27,
   "id": "942126db-91d9-4dfe-9180-2f1dfa88bbf4",
   "metadata": {},
   "outputs": [
    {
     "name": "stdout",
     "output_type": "stream",
     "text": [
      "[0, 1, 0, 0, 0]\n",
      "[0.31818182 0.18181818 0.18181818 0.18181818 0.13636364]\n",
      "[0.22334337 0.127608   0.1757123  0.25369502 0.21964131]\n",
      "[0.15943901 0.09891999 0.16843618 0.28577804 0.28742677]\n",
      "[0.11869767 0.0804     0.16022022 0.30518914 0.33549296]\n",
      "[0.09245157 0.0678554  0.15341915 0.31786278 0.36841109]\n",
      "[0.07526441 0.05936914 0.1484187  0.32628307 0.39066468]\n",
      "[0.0638927  0.05365626 0.14492398 0.33190226 0.4056248 ]\n",
      "[0.05632719 0.04982236 0.14253722 0.33565738 0.41565584]\n",
      "[0.05127993 0.04725366 0.14092468 0.33816816 0.42237356]\n"
     ]
    }
   ],
   "source": [
    "import numpy as np\n",
    "Pi_10 = [el for el in Pi]\n",
    "print(Pi_10)\n",
    "\n",
    "for i in range(9):\n",
    "    try:\n",
    "        Pi_10 = np.dot(np.array(P_m_t), np.array(Pi_10))\n",
    "        print(Pi_10)\n",
    "    except np.linalg.LinAlgError:\n",
    "        print(\"Матрица A сингулярна (нет решения или бесконечно много решений)\")"
   ]
  },
  {
   "cell_type": "code",
   "execution_count": 28,
   "id": "2610ab46-e391-4212-b4f6-3b68f4890bb8",
   "metadata": {},
   "outputs": [
    {
     "name": "stdout",
     "output_type": "stream",
     "text": [
      "[-23.9; -10.5]:   5.1%\n",
      "[-10.5;  -6.8]:  4.73%\n",
      "[ -6.8; -3.62]:  14.1%\n",
      "[-3.62; 0.0331]:  33.8%\n",
      "[0.0331;  6.78]:  42.2%\n"
     ]
    }
   ],
   "source": [
    "print(f\"[{-23.86:5.3}; {temp_diapazon[0]:5.3}]: {(Pi_10[0]*100):5.2}%\")\n",
    "for i in range(1, len(temp_diapazon)):\n",
    "    print(f\"[{temp_diapazon[i-1]:5.3}; {temp_diapazon[i]:5.3}]: {(Pi_10[i]*100):5.3}%\")"
   ]
  },
  {
   "cell_type": "code",
   "execution_count": null,
   "id": "fff2fc72-6145-4ccb-b38f-d7b58140d94a",
   "metadata": {},
   "outputs": [],
   "source": []
  }
 ],
 "metadata": {
  "kernelspec": {
   "display_name": "Python 3 (ipykernel)",
   "language": "python",
   "name": "python3"
  },
  "language_info": {
   "codemirror_mode": {
    "name": "ipython",
    "version": 3
   },
   "file_extension": ".py",
   "mimetype": "text/x-python",
   "name": "python",
   "nbconvert_exporter": "python",
   "pygments_lexer": "ipython3",
   "version": "3.13.1"
  }
 },
 "nbformat": 4,
 "nbformat_minor": 5
}
